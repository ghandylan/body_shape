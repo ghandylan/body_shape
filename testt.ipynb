{
 "cells": [
  {
   "cell_type": "code",
   "execution_count": null,
   "outputs": [],
   "source": [
    "def get_female_bodyshape(bust, waist, hip):\n",
    "    bust = int(bust)\n",
    "    waist = int(waist)\n",
    "    hip = int(hip)\n",
    "\n",
    "    # Waist is at least 25 percent smaller than Hip AND Bust measurement.\n",
    "    # hour glass is also known as curvy shape\n",
    "    if float(waist) * float(1.25) <= bust & hip:\n",
    "        return 'Hourglass'\n",
    "\n",
    "    # Hip measurement is more than 5 percent bigger than Bust measurement.\n",
    "    # pear shape is also known as triangle\n",
    "    elif float(hip) * float(1.05) > bust:\n",
    "        return 'Pear/Triangle'\n",
    "\n",
    "    # Hip measurement is more than 5 percent smaller than Bust measurement.\n",
    "    # apple shape is also known as inverted triangle\n",
    "    elif float(hip) * float(1.05) < bust:\n",
    "        return 'Apple/Inverted Triangle'\n",
    "\n",
    "    # Hip and Bust measurements are within 5 percent of each other.\n",
    "    # rectangle shape is also known as straight\n",
    "    elif float(hip) * float(1.05) == bust:\n",
    "        return 'Rectangle/Straight'\n",
    "\n",
    "\n",
    "bust = 34\n",
    "waist = 24\n",
    "hip = 36\n",
    "output = get_female_bodyshape(bust, waist, hip)\n",
    "print(output)\n",
    "if output == 'Hourglass':\n",
    "    # Form-fitting jersey knits\n",
    "    # Wrap tops\n",
    "    # Peplum blouses\n",
    "    # Tailored tops with ample room in the chest\n",
    "    # Anything with a V-neck, round neck or boat neck\n",
    "    # Dresses\n",
    "    pass\n",
    "elif output == 'Pear/Triangle':\n",
    "    # Plunging V - necks in any silhouette\n",
    "    # Cowl necks\n",
    "    # Bell-sleeves\n",
    "    # Scoop neck\n",
    "    pass\n",
    "elif output == 'Apple/Inverted Triangle':\n",
    "    # Breezy A-line silhouettes\n",
    "    # Flowy tunics\n",
    "    # Relaxed, boyfriend button-ups\n",
    "    # V-neck anything\n",
    "    pass\n",
    "\n",
    "elif output == 'Rectangle/Straight':\n",
    "    pass"
   ],
   "metadata": {
    "collapsed": false
   }
  },
  {
   "cell_type": "code",
   "execution_count": 3,
   "outputs": [],
   "source": [
    "import pandas as pd\n",
    "\n",
    "clothing_data = pd.read_csv('myntra_products_catalog.csv')\n",
    "# insert into dataframes\n",
    "df = pd.DataFrame(clothing_data)"
   ],
   "metadata": {
    "collapsed": false
   }
  },
  {
   "cell_type": "code",
   "execution_count": null,
   "outputs": [],
   "source": [
    "df.head()"
   ],
   "metadata": {
    "collapsed": false,
    "ExecuteTime": {
     "start_time": "2023-05-14T16:25:54.655580Z",
     "end_time": "2023-05-14T16:25:54.718550Z"
    }
   }
  },
  {
   "cell_type": "code",
   "execution_count": null,
   "outputs": [],
   "source": [
    "# select PrimaryColor column from dataframe and drop all the rows with null values\n",
    "df = df[['PrimaryColor']].dropna()\n",
    "# show first 50 rows\n",
    "df.head(50)"
   ],
   "metadata": {
    "collapsed": false,
    "ExecuteTime": {
     "start_time": "2023-05-14T16:25:54.692387Z",
     "end_time": "2023-05-14T16:25:54.718550Z"
    }
   }
  },
  {
   "cell_type": "code",
   "execution_count": null,
   "outputs": [],
   "source": [],
   "metadata": {
    "collapsed": false
   }
  }
 ],
 "metadata": {
  "kernelspec": {
   "display_name": "Python 3",
   "language": "python",
   "name": "python3"
  },
  "language_info": {
   "codemirror_mode": {
    "name": "ipython",
    "version": 2
   },
   "file_extension": ".py",
   "mimetype": "text/x-python",
   "name": "python",
   "nbconvert_exporter": "python",
   "pygments_lexer": "ipython2",
   "version": "2.7.6"
  }
 },
 "nbformat": 4,
 "nbformat_minor": 0
}
